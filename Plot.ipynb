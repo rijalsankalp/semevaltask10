{
 "cells": [
  {
   "cell_type": "code",
   "execution_count": 2,
   "metadata": {},
   "outputs": [],
   "source": [
    "import seaborn as sns\n",
    "import matplotlib.pyplot as plt\n",
    "import pandas as pd\n",
    "import numpy as np"
   ]
  },
  {
   "cell_type": "code",
   "execution_count": null,
   "metadata": {},
   "outputs": [],
   "source": [
    "from EntityDataset import TrainDataset\n",
    "from LoadData import LoadData"
   ]
  },
  {
   "cell_type": "code",
   "execution_count": null,
   "metadata": {},
   "outputs": [],
   "source": [
    "# Create a figure with subplots for each role and language\n",
    "fig, axes = plt.subplots(2, 3, figsize=(20, 10))\n",
    "sentiments = [\"Very Negative\", \"Negative\", \"Neutral\", \"Positive\", \"Very Positive\"]\n",
    "main_roles = [\"Protagonist\", \"Antagonist\", \"Innocent\"]\n",
    "languages = [\"EN\", \"RU\"]\n",
    "base_dir = \"train\"\n",
    "txt_file = \"subtask-1-annotations.txt\"\n",
    "\n",
    "ld = LoadData()\n",
    "\n",
    "for lang_idx, lang in enumerate(languages):\n",
    "    # Load data for each language\n",
    "    data = ld.load_data(base_dir, txt_file, lang)\n",
    "    train_dataset = TrainDataset(data, base_dir, language=lang, return_sentiment=True)\n",
    "    \n",
    "    # Process data\n",
    "    sent_sents = []\n",
    "    roles = []\n",
    "    for i in range(len(train_dataset)):\n",
    "        item = train_dataset[i]\n",
    "        sent_sents.append(item['sent_sent'])\n",
    "        roles.append(item['main_role'])\n",
    "    \n",
    "    # Create DataFrame\n",
    "    sent_sents_array = np.array(sent_sents).squeeze(axis=1)\n",
    "    sentence_df = pd.DataFrame(sent_sents_array, columns=sentiments)\n",
    "    sentence_df['main_role'] = roles\n",
    "    \n",
    "    # Plot for each role\n",
    "    for role_idx, role in enumerate(main_roles):\n",
    "        role_df = sentence_df[sentence_df['main_role'] == role]\n",
    "        \n",
    "        # Plot for each sentiment\n",
    "        for sentiment in sentiments:\n",
    "            sns.kdeplot(data=role_df[sentiment], label=sentiment, alpha=0.6, ax=axes[lang_idx, role_idx])\n",
    "        \n",
    "        axes[lang_idx, role_idx].set_title(f'{lang} - {role}')\n",
    "        axes[lang_idx, role_idx].set_xlabel('Score')\n",
    "        axes[lang_idx, role_idx].set_ylabel('Density')\n",
    "        axes[lang_idx, role_idx].legend()\n",
    "        axes[lang_idx, role_idx].grid(True, alpha=0.3)\n",
    "\n",
    "plt.tight_layout()\n",
    "plt.show()"
   ]
  },
  {
   "cell_type": "code",
   "execution_count": null,
   "metadata": {},
   "outputs": [],
   "source": []
  }
 ],
 "metadata": {
  "kernelspec": {
   "display_name": "semeval",
   "language": "python",
   "name": "python3"
  },
  "language_info": {
   "codemirror_mode": {
    "name": "ipython",
    "version": 3
   },
   "file_extension": ".py",
   "mimetype": "text/x-python",
   "name": "python",
   "nbconvert_exporter": "python",
   "pygments_lexer": "ipython3",
   "version": "3.9.18"
  }
 },
 "nbformat": 4,
 "nbformat_minor": 2
}
